{
 "cells": [
  {
   "cell_type": "code",
   "execution_count": 1,
   "metadata": {
    "ExecuteTime": {
     "end_time": "2024-03-31T10:00:17.339649800Z",
     "start_time": "2024-03-31T10:00:11.257316200Z"
    }
   },
   "outputs": [
    {
     "name": "stderr",
     "output_type": "stream",
     "text": [
      "/tmp/ipykernel_7189/924501092.py:2: DtypeWarning: Columns (10,11) have mixed types. Specify dtype option on import or set low_memory=False.\n",
      "  student_data = pd.read_csv('../BBDC/student_data_bereinigt_merged.csv')\n"
     ]
    }
   ],
   "source": [
    "import pandas as pd\n",
    "student_data = pd.read_csv('../BBDC/student_data_bereinigt_merged.csv')\n"
   ]
  },
  {
   "cell_type": "code",
   "execution_count": 7,
   "metadata": {
    "ExecuteTime": {
     "end_time": "2024-03-30T21:10:27.471029900Z",
     "start_time": "2024-03-30T21:10:27.422030900Z"
    }
   },
   "outputs": [
    {
     "name": "stdout",
     "output_type": "stream",
     "text": [
      "<class 'pandas.core.frame.DataFrame'>\n",
      "Index: 3908496 entries, 359498 to 8816893\n",
      "Data columns (total 15 columns):\n",
      " #   Column             Dtype  \n",
      "---  ------             -----  \n",
      " 0   sessionId          int64  \n",
      " 1   timestamp          int64  \n",
      " 2   x                  float64\n",
      " 3   y                  float64\n",
      " 4   z                  float64\n",
      " 5   ppgValue           float64\n",
      " 6   hr                 float64\n",
      " 7   hrIbi              float64\n",
      " 8   hrStatus           float64\n",
      " 9   ibiStatus          float64\n",
      " 10  affect             object \n",
      " 11  context            object \n",
      " 12  gender             int64  \n",
      " 13  age                int64  \n",
      " 14  timestamp_seconds  float64\n",
      "dtypes: float64(9), int64(4), object(2)\n",
      "memory usage: 477.1+ MB\n"
     ]
    }
   ],
   "source": [
    "cleaned_student_data.info()"
   ]
  },
  {
   "cell_type": "code",
   "execution_count": 12,
   "metadata": {
    "ExecuteTime": {
     "end_time": "2024-03-30T21:14:41.379704800Z",
     "start_time": "2024-03-30T21:14:41.325705Z"
    }
   },
   "outputs": [
    {
     "name": "stdout",
     "output_type": "stream",
     "text": [
      "<class 'pandas.core.frame.DataFrame'>\n",
      "RangeIndex: 8824019 entries, 0 to 8824018\n",
      "Data columns (total 14 columns):\n",
      " #   Column     Dtype  \n",
      "---  ------     -----  \n",
      " 0   sessionId  int64  \n",
      " 1   timestamp  int64  \n",
      " 2   x          float64\n",
      " 3   y          float64\n",
      " 4   z          float64\n",
      " 5   ppgValue   float64\n",
      " 6   hr         float64\n",
      " 7   hrIbi      float64\n",
      " 8   hrStatus   float64\n",
      " 9   ibiStatus  float64\n",
      " 10  affect     object \n",
      " 11  context    object \n",
      " 12  gender     int64  \n",
      " 13  age        int64  \n",
      "dtypes: float64(8), int64(4), object(2)\n",
      "memory usage: 942.5+ MB\n"
     ]
    }
   ],
   "source": [
    "student_data.info()\n"
   ]
  },
  {
   "cell_type": "code",
   "execution_count": 2,
   "metadata": {
    "ExecuteTime": {
     "end_time": "2024-03-31T10:00:17.521650900Z",
     "start_time": "2024-03-31T10:00:17.520651900Z"
    }
   },
   "outputs": [],
   "source": [
    "affect_labels = student_data['affect'].unique()\n",
    "context_labels = student_data['context'].unique()\n"
   ]
  },
  {
   "cell_type": "code",
   "execution_count": 21,
   "metadata": {},
   "outputs": [],
   "source": [
    "nan_percentage = student_data.isnull().mean() * 100\n",
    "nan_percentage_cleaned = cleaned_student_data.isnull().mean() * 100\n"
   ]
  },
  {
   "cell_type": "code",
   "execution_count": 14,
   "metadata": {
    "ExecuteTime": {
     "end_time": "2024-03-30T21:14:53.411082800Z",
     "start_time": "2024-03-30T21:14:53.320082600Z"
    }
   },
   "outputs": [],
   "source": [
    "filtered_data_affect = student_data[student_data['affect'].notna()]\n",
    "filtered_data_context = student_data[student_data['context'].notna()]\n"
   ]
  },
  {
   "cell_type": "code",
   "execution_count": 3,
   "metadata": {
    "ExecuteTime": {
     "end_time": "2024-03-31T10:00:31.411682900Z",
     "start_time": "2024-03-31T10:00:21.480686500Z"
    }
   },
   "outputs": [
    {
     "name": "stdout",
     "output_type": "stream",
     "text": [
      "timestamp conversion to seconds done\n"
     ]
    }
   ],
   "source": [
    "import pandas as pd\n",
    "\n",
    "\n",
    "# First, convert timestamp to seconds for easier computation\n",
    "student_data['timestamp_seconds'] = student_data['timestamp'] / 1000\n",
    "print(\"timestamp conversion to seconds done\")\n",
    "# Function to label surrounding 5 seconds\n",
    "def label_surrounding_rows(df, label_column):\n",
    "    # Identify rows where label_column is not NaN\n",
    "    labeled_indices = df.dropna(subset=[label_column]).index\n",
    "    \n",
    "    # For each labeled row, label the surrounding 5 seconds\n",
    "    for index in labeled_indices:\n",
    "        # Get the timestamp of the current labeled row\n",
    "        current_timestamp = df.loc[index, 'timestamp_seconds']\n",
    "        \n",
    "        # Define the 5-second window before and after\n",
    "        window_start = current_timestamp - 4\n",
    "        window_end = current_timestamp + 4\n",
    "        \n",
    "        # Find indices within this window\n",
    "        window_indices = df[(df['timestamp_seconds'] >= window_start) & (df['timestamp_seconds'] <= window_end)].index\n",
    "        \n",
    "        # Apply the label to rows within the window\n",
    "        df.loc[window_indices, label_column] = df.loc[index, label_column]\n",
    "\n",
    "    return df\n",
    "\n",
    "# Apply the function for both 'affect' and 'context' labels\n",
    "student_data = label_surrounding_rows(student_data, 'affect')\n",
    "student_data = label_surrounding_rows(student_data, 'context')\n"
   ]
  },
  {
   "cell_type": "code",
   "execution_count": 7,
   "metadata": {},
   "outputs": [],
   "source": [
    "import pandas as pd\n",
    "\n",
    "# Columns to duplicate values in until a new non-NaN value appears\n",
    "columns_to_fill = ['hr', 'hrIbi', 'hrStatus', 'ibiStatus']\n",
    "\n",
    "# Apply forward fill for the specified columns\n",
    "student_data[columns_to_fill] = student_data[columns_to_fill].fillna(method='ffill')\n"
   ]
  },
  {
   "cell_type": "code",
   "execution_count": 4,
   "metadata": {
    "ExecuteTime": {
     "end_time": "2024-03-31T10:00:34.668810Z",
     "start_time": "2024-03-31T10:00:34.387807300Z"
    }
   },
   "outputs": [],
   "source": [
    "import pandas as pd\n",
    "\n",
    "\n",
    "# Drop rows where both 'context' and 'affect' are NaN\n",
    "cleaned_student_data = student_data.dropna(subset=['context', 'affect']) #how='all'\n",
    "\n",
    "# 'cleaned_student_data' now contains the data without rows where both 'context' and 'affect' were NaN\n"
   ]
  },
  {
   "cell_type": "code",
   "execution_count": 5,
   "outputs": [
    {
     "data": {
      "text/plain": "         sessionId  timestamp       x       y            z   ppgValue    hr  \\\n513495           7     374822 -3447.0 -1660.0   270.000000  2239466.0  58.0   \n513496          51     374822 -1112.0 -2013.0  1177.000000  2101379.0  60.0   \n513497          29     374823  3865.0  1516.0   -68.000000  2205306.0  62.0   \n513498          41     374824 -4073.0   358.0   -16.000000  2443111.0  64.0   \n513499          32     374824  2551.0 -3213.0  -119.000000  2090760.0  66.0   \n...            ...        ...     ...     ...          ...        ...   ...   \n8776237         38    8915756   -98.0 -1280.0  2428.666667  2055233.0  82.0   \n8776238         51    8915762  -261.0   270.0  4051.000000  2194186.0  82.2   \n8776239         24    8915762  3835.0 -1568.0  1212.000000  2030692.0  82.4   \n8776240         17    8915768  -198.0 -3845.0  1539.000000  1923837.0  82.6   \n8776241         29    8915773  -314.0  -897.0  3918.000000  1931054.0  82.8   \n\n              hrIbi  hrStatus  ibiStatus   affect       context  gender  age  \\\n513495   178.073171     -10.0        0.0  RELAXED       WALKING       1    0   \n513496   182.317073     -10.0        0.0  RELAXED       WALKING       1    1   \n513497   186.560976     -10.0        0.0  RELAXED       WALKING       0    2   \n513498   190.804878     -10.0        0.0  RELAXED       WALKING       1    0   \n513499   195.048780     -10.0        0.0  RELAXED       WALKING       1    2   \n...             ...       ...        ...      ...           ...     ...  ...   \n8776237  464.000000       1.0        1.0    HAPPY  CONVERSATION       1    0   \n8776238  474.500000       1.0        1.0    HAPPY  CONVERSATION       1    1   \n8776239  485.000000       1.0        1.0    HAPPY  CONVERSATION       1    1   \n8776240  495.500000       1.0        1.0    HAPPY  CONVERSATION       0    0   \n8776241  506.000000       1.0        1.0    HAPPY  CONVERSATION       0    2   \n\n         timestamp_seconds  \n513495             374.822  \n513496             374.822  \n513497             374.823  \n513498             374.824  \n513499             374.824  \n...                    ...  \n8776237           8915.756  \n8776238           8915.762  \n8776239           8915.762  \n8776240           8915.768  \n8776241           8915.773  \n\n[685465 rows x 15 columns]",
      "text/html": "<div>\n<style scoped>\n    .dataframe tbody tr th:only-of-type {\n        vertical-align: middle;\n    }\n\n    .dataframe tbody tr th {\n        vertical-align: top;\n    }\n\n    .dataframe thead th {\n        text-align: right;\n    }\n</style>\n<table border=\"1\" class=\"dataframe\">\n  <thead>\n    <tr style=\"text-align: right;\">\n      <th></th>\n      <th>sessionId</th>\n      <th>timestamp</th>\n      <th>x</th>\n      <th>y</th>\n      <th>z</th>\n      <th>ppgValue</th>\n      <th>hr</th>\n      <th>hrIbi</th>\n      <th>hrStatus</th>\n      <th>ibiStatus</th>\n      <th>affect</th>\n      <th>context</th>\n      <th>gender</th>\n      <th>age</th>\n      <th>timestamp_seconds</th>\n    </tr>\n  </thead>\n  <tbody>\n    <tr>\n      <th>513495</th>\n      <td>7</td>\n      <td>374822</td>\n      <td>-3447.0</td>\n      <td>-1660.0</td>\n      <td>270.000000</td>\n      <td>2239466.0</td>\n      <td>58.0</td>\n      <td>178.073171</td>\n      <td>-10.0</td>\n      <td>0.0</td>\n      <td>RELAXED</td>\n      <td>WALKING</td>\n      <td>1</td>\n      <td>0</td>\n      <td>374.822</td>\n    </tr>\n    <tr>\n      <th>513496</th>\n      <td>51</td>\n      <td>374822</td>\n      <td>-1112.0</td>\n      <td>-2013.0</td>\n      <td>1177.000000</td>\n      <td>2101379.0</td>\n      <td>60.0</td>\n      <td>182.317073</td>\n      <td>-10.0</td>\n      <td>0.0</td>\n      <td>RELAXED</td>\n      <td>WALKING</td>\n      <td>1</td>\n      <td>1</td>\n      <td>374.822</td>\n    </tr>\n    <tr>\n      <th>513497</th>\n      <td>29</td>\n      <td>374823</td>\n      <td>3865.0</td>\n      <td>1516.0</td>\n      <td>-68.000000</td>\n      <td>2205306.0</td>\n      <td>62.0</td>\n      <td>186.560976</td>\n      <td>-10.0</td>\n      <td>0.0</td>\n      <td>RELAXED</td>\n      <td>WALKING</td>\n      <td>0</td>\n      <td>2</td>\n      <td>374.823</td>\n    </tr>\n    <tr>\n      <th>513498</th>\n      <td>41</td>\n      <td>374824</td>\n      <td>-4073.0</td>\n      <td>358.0</td>\n      <td>-16.000000</td>\n      <td>2443111.0</td>\n      <td>64.0</td>\n      <td>190.804878</td>\n      <td>-10.0</td>\n      <td>0.0</td>\n      <td>RELAXED</td>\n      <td>WALKING</td>\n      <td>1</td>\n      <td>0</td>\n      <td>374.824</td>\n    </tr>\n    <tr>\n      <th>513499</th>\n      <td>32</td>\n      <td>374824</td>\n      <td>2551.0</td>\n      <td>-3213.0</td>\n      <td>-119.000000</td>\n      <td>2090760.0</td>\n      <td>66.0</td>\n      <td>195.048780</td>\n      <td>-10.0</td>\n      <td>0.0</td>\n      <td>RELAXED</td>\n      <td>WALKING</td>\n      <td>1</td>\n      <td>2</td>\n      <td>374.824</td>\n    </tr>\n    <tr>\n      <th>...</th>\n      <td>...</td>\n      <td>...</td>\n      <td>...</td>\n      <td>...</td>\n      <td>...</td>\n      <td>...</td>\n      <td>...</td>\n      <td>...</td>\n      <td>...</td>\n      <td>...</td>\n      <td>...</td>\n      <td>...</td>\n      <td>...</td>\n      <td>...</td>\n      <td>...</td>\n    </tr>\n    <tr>\n      <th>8776237</th>\n      <td>38</td>\n      <td>8915756</td>\n      <td>-98.0</td>\n      <td>-1280.0</td>\n      <td>2428.666667</td>\n      <td>2055233.0</td>\n      <td>82.0</td>\n      <td>464.000000</td>\n      <td>1.0</td>\n      <td>1.0</td>\n      <td>HAPPY</td>\n      <td>CONVERSATION</td>\n      <td>1</td>\n      <td>0</td>\n      <td>8915.756</td>\n    </tr>\n    <tr>\n      <th>8776238</th>\n      <td>51</td>\n      <td>8915762</td>\n      <td>-261.0</td>\n      <td>270.0</td>\n      <td>4051.000000</td>\n      <td>2194186.0</td>\n      <td>82.2</td>\n      <td>474.500000</td>\n      <td>1.0</td>\n      <td>1.0</td>\n      <td>HAPPY</td>\n      <td>CONVERSATION</td>\n      <td>1</td>\n      <td>1</td>\n      <td>8915.762</td>\n    </tr>\n    <tr>\n      <th>8776239</th>\n      <td>24</td>\n      <td>8915762</td>\n      <td>3835.0</td>\n      <td>-1568.0</td>\n      <td>1212.000000</td>\n      <td>2030692.0</td>\n      <td>82.4</td>\n      <td>485.000000</td>\n      <td>1.0</td>\n      <td>1.0</td>\n      <td>HAPPY</td>\n      <td>CONVERSATION</td>\n      <td>1</td>\n      <td>1</td>\n      <td>8915.762</td>\n    </tr>\n    <tr>\n      <th>8776240</th>\n      <td>17</td>\n      <td>8915768</td>\n      <td>-198.0</td>\n      <td>-3845.0</td>\n      <td>1539.000000</td>\n      <td>1923837.0</td>\n      <td>82.6</td>\n      <td>495.500000</td>\n      <td>1.0</td>\n      <td>1.0</td>\n      <td>HAPPY</td>\n      <td>CONVERSATION</td>\n      <td>0</td>\n      <td>0</td>\n      <td>8915.768</td>\n    </tr>\n    <tr>\n      <th>8776241</th>\n      <td>29</td>\n      <td>8915773</td>\n      <td>-314.0</td>\n      <td>-897.0</td>\n      <td>3918.000000</td>\n      <td>1931054.0</td>\n      <td>82.8</td>\n      <td>506.000000</td>\n      <td>1.0</td>\n      <td>1.0</td>\n      <td>HAPPY</td>\n      <td>CONVERSATION</td>\n      <td>0</td>\n      <td>2</td>\n      <td>8915.773</td>\n    </tr>\n  </tbody>\n</table>\n<p>685465 rows × 15 columns</p>\n</div>"
     },
     "execution_count": 5,
     "metadata": {},
     "output_type": "execute_result"
    }
   ],
   "source": [
    "cleaned_student_data"
   ],
   "metadata": {
    "collapsed": false,
    "ExecuteTime": {
     "end_time": "2024-03-31T10:00:36.021058800Z",
     "start_time": "2024-03-31T10:00:35.987056700Z"
    }
   }
  },
  {
   "cell_type": "code",
   "execution_count": 6,
   "metadata": {
    "ExecuteTime": {
     "end_time": "2024-03-31T10:00:58.767690800Z",
     "start_time": "2024-03-31T10:00:58.293445400Z"
    }
   },
   "outputs": [
    {
     "name": "stdout",
     "output_type": "stream",
     "text": [
      "x\n",
      "y\n",
      "z\n",
      "ppgValue\n",
      "hr\n",
      "hrIbi\n"
     ]
    }
   ],
   "source": [
    "import pandas as pd\n",
    "import numpy as np\n",
    "\n",
    "# Assuming 'student_data' is your DataFrame\n",
    "# And it contains 'sessionId' as the subject ID column\n",
    "# Replace 'feature1', 'feature2', etc., with your actual feature column names (e.g., 'x', 'y', 'z', 'hr')\n",
    "\n",
    "features = ['x', 'y', 'z', 'ppgValue', 'hr', 'hrIbi']  # Add all feature columns you want to normalize\n",
    "\n",
    "# Function to normalize features within each subject\n",
    "def normalize_within_subject(df, subject_column, features):\n",
    "    # Copy the dataframe to avoid modifying the original data\n",
    "    normalized_df = df.copy()\n",
    "    \n",
    "    # Normalize each feature within each subject\n",
    "    for feature in features:\n",
    "        print(feature)\n",
    "        # Apply z-score normalization within each subject\n",
    "        df_grouped = df.groupby(subject_column)\n",
    "        normalized_df[feature] = df_grouped[feature].transform(lambda x: (x - x.mean()) / x.std())\n",
    "    \n",
    "    # Replace NaN values that result from dividing by std = 0 with 0 (if a feature has constant value)\n",
    "    normalized_df[features] = normalized_df[features].fillna(0)\n",
    "    \n",
    "    return normalized_df\n",
    "\n",
    "# Apply the normalization function to your data\n",
    "normalized_student_data = normalize_within_subject(cleaned_student_data, 'sessionId', features)\n"
   ]
  },
  {
   "cell_type": "code",
   "execution_count": 10,
   "metadata": {},
   "outputs": [],
   "source": [
    "import pandas as pd\n",
    "\n",
    "# Remove rows where 'x', 'y', and 'z' are all zero\n",
    "normalized_student_data = normalized_student_data[~((normalized_student_data['x'] == 0) & (normalized_student_data['y'] == 0) & (normalized_student_data['z'] == 0))]\n"
   ]
  },
  {
   "cell_type": "code",
   "execution_count": 7,
   "metadata": {
    "ExecuteTime": {
     "end_time": "2024-03-31T10:01:50.863477900Z",
     "start_time": "2024-03-31T10:01:46.435478Z"
    }
   },
   "outputs": [],
   "source": [
    "normalized_student_data.to_csv('new_student_data_fenster4_nor.csv', index=False)\n"
   ]
  }
 ],
 "metadata": {
  "kernelspec": {
   "display_name": "Python 3",
   "language": "python",
   "name": "python3"
  },
  "language_info": {
   "codemirror_mode": {
    "name": "ipython",
    "version": 3
   },
   "file_extension": ".py",
   "mimetype": "text/x-python",
   "name": "python",
   "nbconvert_exporter": "python",
   "pygments_lexer": "ipython3",
   "version": "3.11.8"
  }
 },
 "nbformat": 4,
 "nbformat_minor": 2
}
