{
 "cells": [
  {
   "cell_type": "code",
   "execution_count": 1,
   "metadata": {},
   "outputs": [
    {
     "name": "stderr",
     "output_type": "stream",
     "text": [
      "C:\\Users\\tkoehler\\AppData\\Local\\Temp\\1\\ipykernel_11244\\906454212.py:2: DtypeWarning: Columns (12,13) have mixed types. Specify dtype option on import or set low_memory=False.\n",
      "  student_data = pd.read_csv('student_data.csv')\n"
     ]
    }
   ],
   "source": [
    "import pandas as pd\n",
    "student_data = pd.read_csv('student_data.csv')\n"
   ]
  },
  {
   "cell_type": "code",
   "execution_count": 2,
   "metadata": {},
   "outputs": [
    {
     "name": "stdout",
     "output_type": "stream",
     "text": [
      "<class 'pandas.core.frame.DataFrame'>\n",
      "RangeIndex: 8824678 entries, 0 to 8824677\n",
      "Data columns (total 14 columns):\n",
      " #   Column        Dtype  \n",
      "---  ------        -----  \n",
      " 0   sessionId     int64  \n",
      " 1   timestamp     int64  \n",
      " 2   x             float64\n",
      " 3   y             float64\n",
      " 4   z             float64\n",
      " 5   ppgValue      float64\n",
      " 6   hr            float64\n",
      " 7   hrIbi         float64\n",
      " 8   hrStatus      float64\n",
      " 9   ibiStatus     float64\n",
      " 10  notification  float64\n",
      " 11  engagement    float64\n",
      " 12  affect        object \n",
      " 13  context       object \n",
      "dtypes: float64(10), int64(2), object(2)\n",
      "memory usage: 942.6+ MB\n"
     ]
    }
   ],
   "source": [
    "student_data.info()\n"
   ]
  },
  {
   "cell_type": "code",
   "execution_count": 3,
   "metadata": {},
   "outputs": [],
   "source": [
    "affect_labels = student_data['affect'].unique()\n",
    "context_labels = student_data['context'].unique()\n"
   ]
  },
  {
   "cell_type": "code",
   "execution_count": 4,
   "metadata": {},
   "outputs": [],
   "source": [
    "nan_percentage = student_data.isnull().mean() * 100\n"
   ]
  },
  {
   "cell_type": "code",
   "execution_count": 5,
   "metadata": {},
   "outputs": [],
   "source": [
    "filtered_data_affect = student_data[student_data['affect'].notna()]\n",
    "filtered_data_context = student_data[student_data['context'].notna()]\n"
   ]
  },
  {
   "cell_type": "code",
   "execution_count": 6,
   "metadata": {},
   "outputs": [
    {
     "name": "stdout",
     "output_type": "stream",
     "text": [
      "timestamp conversion to seconds done\n"
     ]
    }
   ],
   "source": [
    "import pandas as pd\n",
    "\n",
    "\n",
    "# First, convert timestamp to seconds for easier computation\n",
    "student_data['timestamp_seconds'] = student_data['timestamp'] / 1000\n",
    "print(\"timestamp conversion to seconds done\")\n",
    "# Function to label surrounding 5 seconds\n",
    "def label_surrounding_rows(df, label_column):\n",
    "    # Identify rows where label_column is not NaN\n",
    "    labeled_indices = df.dropna(subset=[label_column]).index\n",
    "    \n",
    "    # For each labeled row, label the surrounding 5 seconds\n",
    "    for index in labeled_indices:\n",
    "        # Get the timestamp of the current labeled row\n",
    "        current_timestamp = df.loc[index, 'timestamp_seconds']\n",
    "        \n",
    "        # Define the 5-second window before and after\n",
    "        window_start = current_timestamp - 5\n",
    "        window_end = current_timestamp + 5\n",
    "        \n",
    "        # Find indices within this window\n",
    "        window_indices = df[(df['timestamp_seconds'] >= window_start) & (df['timestamp_seconds'] <= window_end)].index\n",
    "        \n",
    "        # Apply the label to rows within the window\n",
    "        df.loc[window_indices, label_column] = df.loc[index, label_column]\n",
    "\n",
    "    return df\n",
    "\n",
    "# Apply the function for both 'affect' and 'context' labels\n",
    "student_data = label_surrounding_rows(student_data, 'affect')\n",
    "student_data = label_surrounding_rows(student_data, 'context')\n"
   ]
  },
  {
   "cell_type": "code",
   "execution_count": 7,
   "metadata": {},
   "outputs": [],
   "source": [
    "import pandas as pd\n",
    "\n",
    "# Columns to duplicate values in until a new non-NaN value appears\n",
    "columns_to_fill = ['hr', 'hrIbi', 'hrStatus', 'ibiStatus']\n",
    "\n",
    "# Apply forward fill for the specified columns\n",
    "student_data[columns_to_fill] = student_data[columns_to_fill].fillna(method='ffill')\n"
   ]
  },
  {
   "cell_type": "code",
   "execution_count": 8,
   "metadata": {},
   "outputs": [],
   "source": [
    "import pandas as pd\n",
    "\n",
    "\n",
    "# Drop rows where both 'context' and 'affect' are NaN\n",
    "cleaned_student_data = student_data.dropna(subset=['context', 'affect'], how='all')\n",
    "\n",
    "# 'cleaned_student_data' now contains the data without rows where both 'context' and 'affect' were NaN\n",
    "\n"
   ]
  },
  {
   "cell_type": "code",
   "execution_count": 9,
   "metadata": {},
   "outputs": [
    {
     "name": "stdout",
     "output_type": "stream",
     "text": [
      "x\n",
      "y\n",
      "z\n",
      "ppgValue\n",
      "hr\n",
      "hrIbi\n"
     ]
    }
   ],
   "source": [
    "import pandas as pd\n",
    "import numpy as np\n",
    "\n",
    "# Assuming 'student_data' is your DataFrame\n",
    "# And it contains 'sessionId' as the subject ID column\n",
    "# Replace 'feature1', 'feature2', etc., with your actual feature column names (e.g., 'x', 'y', 'z', 'hr')\n",
    "\n",
    "features = ['x', 'y', 'z', 'ppgValue', 'hr', 'hrIbi']  # Add all feature columns you want to normalize\n",
    "\n",
    "# Function to normalize features within each subject\n",
    "def normalize_within_subject(df, subject_column, features):\n",
    "    # Copy the dataframe to avoid modifying the original data\n",
    "    normalized_df = df.copy()\n",
    "    \n",
    "    # Normalize each feature within each subject\n",
    "    for feature in features:\n",
    "        print(feature)\n",
    "        # Apply z-score normalization within each subject\n",
    "        df_grouped = df.groupby(subject_column)\n",
    "        normalized_df[feature] = df_grouped[feature].transform(lambda x: (x - x.mean()) / x.std())\n",
    "    \n",
    "    # Replace NaN values that result from dividing by std = 0 with 0 (if a feature has constant value)\n",
    "    normalized_df[features] = normalized_df[features].fillna(0)\n",
    "    \n",
    "    return normalized_df\n",
    "\n",
    "# Apply the normalization function to your data\n",
    "normalized_student_data = normalize_within_subject(cleaned_student_data, 'sessionId', features)\n"
   ]
  },
  {
   "cell_type": "code",
   "execution_count": 10,
   "metadata": {},
   "outputs": [],
   "source": [
    "import pandas as pd\n",
    "\n",
    "# Assuming 'student_data' is your DataFrame and it's already loaded\n",
    "\n",
    "# Remove rows where 'x', 'y', and 'z' are all zero\n",
    "normalized_student_data = normalized_student_data[~((normalized_student_data['x'] == 0) & (normalized_student_data['y'] == 0) & (normalized_student_data['z'] == 0))]\n"
   ]
  },
  {
   "cell_type": "code",
   "execution_count": 11,
   "metadata": {},
   "outputs": [],
   "source": [
    "# Assuming 'normalized_student_data' is your DataFrame\n",
    "normalized_student_data.to_csv('preprocessed_student_data.csv', index=False)\n"
   ]
  }
 ],
 "metadata": {
  "kernelspec": {
   "display_name": "Python 3",
   "language": "python",
   "name": "python3"
  },
  "language_info": {
   "codemirror_mode": {
    "name": "ipython",
    "version": 3
   },
   "file_extension": ".py",
   "mimetype": "text/x-python",
   "name": "python",
   "nbconvert_exporter": "python",
   "pygments_lexer": "ipython3",
   "version": "3.11.8"
  }
 },
 "nbformat": 4,
 "nbformat_minor": 2
}
