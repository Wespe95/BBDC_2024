{
 "cells": [
  {
   "cell_type": "code",
   "execution_count": 1,
   "id": "initial_id",
   "metadata": {
    "collapsed": true,
    "ExecuteTime": {
     "end_time": "2024-03-18T13:16:07.122401800Z",
     "start_time": "2024-03-18T13:16:07.004398200Z"
    }
   },
   "outputs": [],
   "source": [
    "import pandas as pd\n",
    "import numpy as np\n",
    "import matplotlib.pyplot as plt\n",
    "import seaborn as sns\n",
    "\n",
    "from sklearn.preprocessing import MinMaxScaler\n",
    "from sklearn.preprocessing import StandardScaler\n",
    "from datetime import timedelta\n",
    "from sklearn.model_selection import TimeSeriesSplit\n",
    "from sklearn.model_selection import train_test_split\n",
    "from pylab import rcParams\n",
    "\n",
    "from sklearn.metrics import mean_squared_error\n",
    "import math\n",
    "\n",
    "import warnings # Supress warnings\n",
    "warnings.filterwarnings('ignore')"
   ]
  },
  {
   "cell_type": "code",
   "execution_count": 35,
   "outputs": [
    {
     "data": {
      "text/plain": "         sessionId  timestamp      x      y       z   ppgValue   hr  hrIbi  \\\n0                1          8  653.0  195.0  4324.0  1917829.0  NaN    NaN   \n1                1         50  659.0  198.0  4096.0  1917495.0  NaN    NaN   \n2                1         89  645.0  149.0  4054.0  1917365.0  NaN    NaN   \n3                1        128  752.0  213.0  4090.0  1918146.0  NaN    NaN   \n4                1        169  652.0  232.0  4088.0  1919319.0  NaN    NaN   \n...            ...        ...    ...    ...     ...        ...  ...    ...   \n8824673         48    4225425    NaN    NaN     NaN        NaN  0.0    0.0   \n8824674         48    4225455 -808.0   42.0  4038.0  3349663.0  NaN    NaN   \n8824675         48    4225495 -792.0  -89.0  3885.0  3404833.0  NaN    NaN   \n8824676         48    4225535 -806.0  -78.0  4130.0  3316474.0  NaN    NaN   \n8824677         48    4225576 -823.0 -124.0  3964.0  3314477.0  NaN    NaN   \n\n         hrStatus  ibiStatus  notification  engagement affect context  \n0             NaN        NaN           NaN         NaN    NaN     NaN  \n1             NaN        NaN           NaN         NaN    NaN     NaN  \n2             NaN        NaN           NaN         NaN    NaN     NaN  \n3             NaN        NaN           NaN         NaN    NaN     NaN  \n4             NaN        NaN           NaN         NaN    NaN     NaN  \n...           ...        ...           ...         ...    ...     ...  \n8824673     -10.0        0.0           NaN         NaN    NaN     NaN  \n8824674       NaN        NaN           NaN         NaN    NaN     NaN  \n8824675       NaN        NaN           NaN         NaN    NaN     NaN  \n8824676       NaN        NaN           NaN         NaN    NaN     NaN  \n8824677       NaN        NaN           NaN         NaN    NaN     NaN  \n\n[8824678 rows x 14 columns]",
      "text/html": "<div>\n<style scoped>\n    .dataframe tbody tr th:only-of-type {\n        vertical-align: middle;\n    }\n\n    .dataframe tbody tr th {\n        vertical-align: top;\n    }\n\n    .dataframe thead th {\n        text-align: right;\n    }\n</style>\n<table border=\"1\" class=\"dataframe\">\n  <thead>\n    <tr style=\"text-align: right;\">\n      <th></th>\n      <th>sessionId</th>\n      <th>timestamp</th>\n      <th>x</th>\n      <th>y</th>\n      <th>z</th>\n      <th>ppgValue</th>\n      <th>hr</th>\n      <th>hrIbi</th>\n      <th>hrStatus</th>\n      <th>ibiStatus</th>\n      <th>notification</th>\n      <th>engagement</th>\n      <th>affect</th>\n      <th>context</th>\n    </tr>\n  </thead>\n  <tbody>\n    <tr>\n      <th>0</th>\n      <td>1</td>\n      <td>8</td>\n      <td>653.0</td>\n      <td>195.0</td>\n      <td>4324.0</td>\n      <td>1917829.0</td>\n      <td>NaN</td>\n      <td>NaN</td>\n      <td>NaN</td>\n      <td>NaN</td>\n      <td>NaN</td>\n      <td>NaN</td>\n      <td>NaN</td>\n      <td>NaN</td>\n    </tr>\n    <tr>\n      <th>1</th>\n      <td>1</td>\n      <td>50</td>\n      <td>659.0</td>\n      <td>198.0</td>\n      <td>4096.0</td>\n      <td>1917495.0</td>\n      <td>NaN</td>\n      <td>NaN</td>\n      <td>NaN</td>\n      <td>NaN</td>\n      <td>NaN</td>\n      <td>NaN</td>\n      <td>NaN</td>\n      <td>NaN</td>\n    </tr>\n    <tr>\n      <th>2</th>\n      <td>1</td>\n      <td>89</td>\n      <td>645.0</td>\n      <td>149.0</td>\n      <td>4054.0</td>\n      <td>1917365.0</td>\n      <td>NaN</td>\n      <td>NaN</td>\n      <td>NaN</td>\n      <td>NaN</td>\n      <td>NaN</td>\n      <td>NaN</td>\n      <td>NaN</td>\n      <td>NaN</td>\n    </tr>\n    <tr>\n      <th>3</th>\n      <td>1</td>\n      <td>128</td>\n      <td>752.0</td>\n      <td>213.0</td>\n      <td>4090.0</td>\n      <td>1918146.0</td>\n      <td>NaN</td>\n      <td>NaN</td>\n      <td>NaN</td>\n      <td>NaN</td>\n      <td>NaN</td>\n      <td>NaN</td>\n      <td>NaN</td>\n      <td>NaN</td>\n    </tr>\n    <tr>\n      <th>4</th>\n      <td>1</td>\n      <td>169</td>\n      <td>652.0</td>\n      <td>232.0</td>\n      <td>4088.0</td>\n      <td>1919319.0</td>\n      <td>NaN</td>\n      <td>NaN</td>\n      <td>NaN</td>\n      <td>NaN</td>\n      <td>NaN</td>\n      <td>NaN</td>\n      <td>NaN</td>\n      <td>NaN</td>\n    </tr>\n    <tr>\n      <th>...</th>\n      <td>...</td>\n      <td>...</td>\n      <td>...</td>\n      <td>...</td>\n      <td>...</td>\n      <td>...</td>\n      <td>...</td>\n      <td>...</td>\n      <td>...</td>\n      <td>...</td>\n      <td>...</td>\n      <td>...</td>\n      <td>...</td>\n      <td>...</td>\n    </tr>\n    <tr>\n      <th>8824673</th>\n      <td>48</td>\n      <td>4225425</td>\n      <td>NaN</td>\n      <td>NaN</td>\n      <td>NaN</td>\n      <td>NaN</td>\n      <td>0.0</td>\n      <td>0.0</td>\n      <td>-10.0</td>\n      <td>0.0</td>\n      <td>NaN</td>\n      <td>NaN</td>\n      <td>NaN</td>\n      <td>NaN</td>\n    </tr>\n    <tr>\n      <th>8824674</th>\n      <td>48</td>\n      <td>4225455</td>\n      <td>-808.0</td>\n      <td>42.0</td>\n      <td>4038.0</td>\n      <td>3349663.0</td>\n      <td>NaN</td>\n      <td>NaN</td>\n      <td>NaN</td>\n      <td>NaN</td>\n      <td>NaN</td>\n      <td>NaN</td>\n      <td>NaN</td>\n      <td>NaN</td>\n    </tr>\n    <tr>\n      <th>8824675</th>\n      <td>48</td>\n      <td>4225495</td>\n      <td>-792.0</td>\n      <td>-89.0</td>\n      <td>3885.0</td>\n      <td>3404833.0</td>\n      <td>NaN</td>\n      <td>NaN</td>\n      <td>NaN</td>\n      <td>NaN</td>\n      <td>NaN</td>\n      <td>NaN</td>\n      <td>NaN</td>\n      <td>NaN</td>\n    </tr>\n    <tr>\n      <th>8824676</th>\n      <td>48</td>\n      <td>4225535</td>\n      <td>-806.0</td>\n      <td>-78.0</td>\n      <td>4130.0</td>\n      <td>3316474.0</td>\n      <td>NaN</td>\n      <td>NaN</td>\n      <td>NaN</td>\n      <td>NaN</td>\n      <td>NaN</td>\n      <td>NaN</td>\n      <td>NaN</td>\n      <td>NaN</td>\n    </tr>\n    <tr>\n      <th>8824677</th>\n      <td>48</td>\n      <td>4225576</td>\n      <td>-823.0</td>\n      <td>-124.0</td>\n      <td>3964.0</td>\n      <td>3314477.0</td>\n      <td>NaN</td>\n      <td>NaN</td>\n      <td>NaN</td>\n      <td>NaN</td>\n      <td>NaN</td>\n      <td>NaN</td>\n      <td>NaN</td>\n      <td>NaN</td>\n    </tr>\n  </tbody>\n</table>\n<p>8824678 rows × 14 columns</p>\n</div>"
     },
     "execution_count": 35,
     "metadata": {},
     "output_type": "execute_result"
    }
   ],
   "source": [
    "data = pd.read_csv('../task/student_data.csv', sep =',')\n",
    "data"
   ],
   "metadata": {
    "collapsed": false,
    "ExecuteTime": {
     "end_time": "2024-03-18T14:30:31.942753300Z",
     "start_time": "2024-03-18T14:30:26.388842400Z"
    }
   },
   "id": "19fffe9d9124847a"
  },
  {
   "cell_type": "code",
   "execution_count": 21,
   "outputs": [
    {
     "name": "stdout",
     "output_type": "stream",
     "text": [
      "<class 'pandas.core.frame.DataFrame'>\n",
      "RangeIndex: 8824678 entries, 0 to 8824677\n",
      "Data columns (total 14 columns):\n",
      " #   Column        Dtype  \n",
      "---  ------        -----  \n",
      " 0   sessionId     int64  \n",
      " 1   timestamp     int64  \n",
      " 2   x             float64\n",
      " 3   y             float64\n",
      " 4   z             float64\n",
      " 5   ppgValue      float64\n",
      " 6   hr            float64\n",
      " 7   hrIbi         float64\n",
      " 8   hrStatus      float64\n",
      " 9   ibiStatus     float64\n",
      " 10  notification  float64\n",
      " 11  engagement    float64\n",
      " 12  affect        object \n",
      " 13  context       object \n",
      "dtypes: float64(10), int64(2), object(2)\n",
      "memory usage: 942.6+ MB\n"
     ]
    },
    {
     "data": {
      "text/plain": "         sessionId  timestamp      x      y      z  ppgValue     hr  hrIbi  \\\n0            False      False  False  False  False     False   True   True   \n1            False      False  False  False  False     False   True   True   \n2            False      False  False  False  False     False   True   True   \n3            False      False  False  False  False     False   True   True   \n4            False      False  False  False  False     False   True   True   \n...            ...        ...    ...    ...    ...       ...    ...    ...   \n8824673      False      False   True   True   True      True  False  False   \n8824674      False      False  False  False  False     False   True   True   \n8824675      False      False  False  False  False     False   True   True   \n8824676      False      False  False  False  False     False   True   True   \n8824677      False      False  False  False  False     False   True   True   \n\n         hrStatus  ibiStatus  notification  engagement  affect  context  \n0            True       True          True        True    True     True  \n1            True       True          True        True    True     True  \n2            True       True          True        True    True     True  \n3            True       True          True        True    True     True  \n4            True       True          True        True    True     True  \n...           ...        ...           ...         ...     ...      ...  \n8824673     False      False          True        True    True     True  \n8824674      True       True          True        True    True     True  \n8824675      True       True          True        True    True     True  \n8824676      True       True          True        True    True     True  \n8824677      True       True          True        True    True     True  \n\n[8824678 rows x 14 columns]",
      "text/html": "<div>\n<style scoped>\n    .dataframe tbody tr th:only-of-type {\n        vertical-align: middle;\n    }\n\n    .dataframe tbody tr th {\n        vertical-align: top;\n    }\n\n    .dataframe thead th {\n        text-align: right;\n    }\n</style>\n<table border=\"1\" class=\"dataframe\">\n  <thead>\n    <tr style=\"text-align: right;\">\n      <th></th>\n      <th>sessionId</th>\n      <th>timestamp</th>\n      <th>x</th>\n      <th>y</th>\n      <th>z</th>\n      <th>ppgValue</th>\n      <th>hr</th>\n      <th>hrIbi</th>\n      <th>hrStatus</th>\n      <th>ibiStatus</th>\n      <th>notification</th>\n      <th>engagement</th>\n      <th>affect</th>\n      <th>context</th>\n    </tr>\n  </thead>\n  <tbody>\n    <tr>\n      <th>0</th>\n      <td>False</td>\n      <td>False</td>\n      <td>False</td>\n      <td>False</td>\n      <td>False</td>\n      <td>False</td>\n      <td>True</td>\n      <td>True</td>\n      <td>True</td>\n      <td>True</td>\n      <td>True</td>\n      <td>True</td>\n      <td>True</td>\n      <td>True</td>\n    </tr>\n    <tr>\n      <th>1</th>\n      <td>False</td>\n      <td>False</td>\n      <td>False</td>\n      <td>False</td>\n      <td>False</td>\n      <td>False</td>\n      <td>True</td>\n      <td>True</td>\n      <td>True</td>\n      <td>True</td>\n      <td>True</td>\n      <td>True</td>\n      <td>True</td>\n      <td>True</td>\n    </tr>\n    <tr>\n      <th>2</th>\n      <td>False</td>\n      <td>False</td>\n      <td>False</td>\n      <td>False</td>\n      <td>False</td>\n      <td>False</td>\n      <td>True</td>\n      <td>True</td>\n      <td>True</td>\n      <td>True</td>\n      <td>True</td>\n      <td>True</td>\n      <td>True</td>\n      <td>True</td>\n    </tr>\n    <tr>\n      <th>3</th>\n      <td>False</td>\n      <td>False</td>\n      <td>False</td>\n      <td>False</td>\n      <td>False</td>\n      <td>False</td>\n      <td>True</td>\n      <td>True</td>\n      <td>True</td>\n      <td>True</td>\n      <td>True</td>\n      <td>True</td>\n      <td>True</td>\n      <td>True</td>\n    </tr>\n    <tr>\n      <th>4</th>\n      <td>False</td>\n      <td>False</td>\n      <td>False</td>\n      <td>False</td>\n      <td>False</td>\n      <td>False</td>\n      <td>True</td>\n      <td>True</td>\n      <td>True</td>\n      <td>True</td>\n      <td>True</td>\n      <td>True</td>\n      <td>True</td>\n      <td>True</td>\n    </tr>\n    <tr>\n      <th>...</th>\n      <td>...</td>\n      <td>...</td>\n      <td>...</td>\n      <td>...</td>\n      <td>...</td>\n      <td>...</td>\n      <td>...</td>\n      <td>...</td>\n      <td>...</td>\n      <td>...</td>\n      <td>...</td>\n      <td>...</td>\n      <td>...</td>\n      <td>...</td>\n    </tr>\n    <tr>\n      <th>8824673</th>\n      <td>False</td>\n      <td>False</td>\n      <td>True</td>\n      <td>True</td>\n      <td>True</td>\n      <td>True</td>\n      <td>False</td>\n      <td>False</td>\n      <td>False</td>\n      <td>False</td>\n      <td>True</td>\n      <td>True</td>\n      <td>True</td>\n      <td>True</td>\n    </tr>\n    <tr>\n      <th>8824674</th>\n      <td>False</td>\n      <td>False</td>\n      <td>False</td>\n      <td>False</td>\n      <td>False</td>\n      <td>False</td>\n      <td>True</td>\n      <td>True</td>\n      <td>True</td>\n      <td>True</td>\n      <td>True</td>\n      <td>True</td>\n      <td>True</td>\n      <td>True</td>\n    </tr>\n    <tr>\n      <th>8824675</th>\n      <td>False</td>\n      <td>False</td>\n      <td>False</td>\n      <td>False</td>\n      <td>False</td>\n      <td>False</td>\n      <td>True</td>\n      <td>True</td>\n      <td>True</td>\n      <td>True</td>\n      <td>True</td>\n      <td>True</td>\n      <td>True</td>\n      <td>True</td>\n    </tr>\n    <tr>\n      <th>8824676</th>\n      <td>False</td>\n      <td>False</td>\n      <td>False</td>\n      <td>False</td>\n      <td>False</td>\n      <td>False</td>\n      <td>True</td>\n      <td>True</td>\n      <td>True</td>\n      <td>True</td>\n      <td>True</td>\n      <td>True</td>\n      <td>True</td>\n      <td>True</td>\n    </tr>\n    <tr>\n      <th>8824677</th>\n      <td>False</td>\n      <td>False</td>\n      <td>False</td>\n      <td>False</td>\n      <td>False</td>\n      <td>False</td>\n      <td>True</td>\n      <td>True</td>\n      <td>True</td>\n      <td>True</td>\n      <td>True</td>\n      <td>True</td>\n      <td>True</td>\n      <td>True</td>\n    </tr>\n  </tbody>\n</table>\n<p>8824678 rows × 14 columns</p>\n</div>"
     },
     "execution_count": 21,
     "metadata": {},
     "output_type": "execute_result"
    }
   ],
   "source": [
    "data.shape\n",
    "data.info()\n",
    "data.isna()"
   ],
   "metadata": {
    "collapsed": false,
    "ExecuteTime": {
     "end_time": "2024-03-18T13:48:52.011106500Z",
     "start_time": "2024-03-18T13:48:51.721770300Z"
    }
   },
   "id": "34289e367720474f"
  },
  {
   "cell_type": "code",
   "execution_count": 22,
   "outputs": [
    {
     "name": "stdout",
     "output_type": "stream",
     "text": [
      "Anzahl der NAN-Werte pro Spalte sessionId: 0\n",
      "Anzahl der NAN-Werte pro Spalte timestamp: 0\n",
      "Anzahl der NAN-Werte pro Spalte x: 338892\n",
      "Anzahl der NAN-Werte pro Spalte y: 338892\n",
      "Anzahl der NAN-Werte pro Spalte z: 338892\n",
      "Anzahl der NAN-Werte pro Spalte ppgValue: 338892\n",
      "Anzahl der NAN-Werte pro Spalte hr: 8487003\n",
      "Anzahl der NAN-Werte pro Spalte hrIbi: 8487003\n",
      "Anzahl der NAN-Werte pro Spalte hrStatus: 8487003\n",
      "Anzahl der NAN-Werte pro Spalte ibiStatus: 8487003\n",
      "Anzahl der NAN-Werte pro Spalte notification: 8824306\n",
      "Anzahl der NAN-Werte pro Spalte engagement: 8824306\n",
      "Anzahl der NAN-Werte pro Spalte affect: 8824438\n",
      "Anzahl der NAN-Werte pro Spalte context: 8824445\n"
     ]
    }
   ],
   "source": [
    "for col in data:\n",
    "  num_missing = data[data[col].isna() ==True].shape[0]\n",
    "  print('Anzahl der NAN-Werte pro Spalte {}: {}'.format(col, num_missing))"
   ],
   "metadata": {
    "collapsed": false,
    "ExecuteTime": {
     "end_time": "2024-03-18T13:49:03.114314500Z",
     "start_time": "2024-03-18T13:49:00.538760900Z"
    }
   },
   "id": "d2e7e4ef071ae405"
  },
  {
   "cell_type": "code",
   "execution_count": 23,
   "outputs": [
    {
     "data": {
      "text/plain": "          sessionId     timestamp             x             y             z  \\\ncount  8.824678e+06  8.824678e+06  8.485786e+06  8.485786e+06  8.485786e+06   \nmean   3.243961e+01  3.509351e+06 -5.859700e+02 -2.246576e+03  8.656262e+02   \nstd    1.618591e+01  2.288202e+06  2.093514e+03  1.602237e+03  2.053281e+03   \nmin    1.000000e+00  0.000000e+00 -3.275700e+04 -3.275800e+04 -3.275800e+04   \n25%    1.900000e+01  1.610097e+06 -2.298000e+03 -3.497000e+03 -3.080000e+02   \n50%    3.500000e+01  3.220053e+06 -2.510000e+02 -2.552000e+03  8.390000e+02   \n75%    4.500000e+01  5.143988e+06  7.870000e+02 -1.255000e+03  2.438000e+03   \nmax    5.800000e+01  9.360487e+06  3.266700e+04  3.276300e+04  3.276400e+04   \n\n           ppgValue             hr          hrIbi       hrStatus  \\\ncount  8.485786e+06  337675.000000  337675.000000  337675.000000   \nmean   2.059270e+06      47.162639     767.086509      -3.529521   \nstd    2.554720e+05      41.084118     535.460339       6.400345   \nmin   -6.043650e+05       0.000000       0.000000    -999.000000   \n25%    1.987464e+06       0.000000     394.000000     -10.000000   \n50%    2.079625e+06      71.000000     592.000000       1.000000   \n75%    2.155102e+06      82.000000     960.000000       1.000000   \nmax    4.195641e+06     127.000000    3107.000000       1.000000   \n\n           ibiStatus  notification  engagement  \ncount  337675.000000         372.0       372.0  \nmean        0.286823           1.0         1.0  \nstd         0.452279           0.0         0.0  \nmin         0.000000           1.0         1.0  \n25%         0.000000           1.0         1.0  \n50%         0.000000           1.0         1.0  \n75%         1.000000           1.0         1.0  \nmax         1.000000           1.0         1.0  ",
      "text/html": "<div>\n<style scoped>\n    .dataframe tbody tr th:only-of-type {\n        vertical-align: middle;\n    }\n\n    .dataframe tbody tr th {\n        vertical-align: top;\n    }\n\n    .dataframe thead th {\n        text-align: right;\n    }\n</style>\n<table border=\"1\" class=\"dataframe\">\n  <thead>\n    <tr style=\"text-align: right;\">\n      <th></th>\n      <th>sessionId</th>\n      <th>timestamp</th>\n      <th>x</th>\n      <th>y</th>\n      <th>z</th>\n      <th>ppgValue</th>\n      <th>hr</th>\n      <th>hrIbi</th>\n      <th>hrStatus</th>\n      <th>ibiStatus</th>\n      <th>notification</th>\n      <th>engagement</th>\n    </tr>\n  </thead>\n  <tbody>\n    <tr>\n      <th>count</th>\n      <td>8.824678e+06</td>\n      <td>8.824678e+06</td>\n      <td>8.485786e+06</td>\n      <td>8.485786e+06</td>\n      <td>8.485786e+06</td>\n      <td>8.485786e+06</td>\n      <td>337675.000000</td>\n      <td>337675.000000</td>\n      <td>337675.000000</td>\n      <td>337675.000000</td>\n      <td>372.0</td>\n      <td>372.0</td>\n    </tr>\n    <tr>\n      <th>mean</th>\n      <td>3.243961e+01</td>\n      <td>3.509351e+06</td>\n      <td>-5.859700e+02</td>\n      <td>-2.246576e+03</td>\n      <td>8.656262e+02</td>\n      <td>2.059270e+06</td>\n      <td>47.162639</td>\n      <td>767.086509</td>\n      <td>-3.529521</td>\n      <td>0.286823</td>\n      <td>1.0</td>\n      <td>1.0</td>\n    </tr>\n    <tr>\n      <th>std</th>\n      <td>1.618591e+01</td>\n      <td>2.288202e+06</td>\n      <td>2.093514e+03</td>\n      <td>1.602237e+03</td>\n      <td>2.053281e+03</td>\n      <td>2.554720e+05</td>\n      <td>41.084118</td>\n      <td>535.460339</td>\n      <td>6.400345</td>\n      <td>0.452279</td>\n      <td>0.0</td>\n      <td>0.0</td>\n    </tr>\n    <tr>\n      <th>min</th>\n      <td>1.000000e+00</td>\n      <td>0.000000e+00</td>\n      <td>-3.275700e+04</td>\n      <td>-3.275800e+04</td>\n      <td>-3.275800e+04</td>\n      <td>-6.043650e+05</td>\n      <td>0.000000</td>\n      <td>0.000000</td>\n      <td>-999.000000</td>\n      <td>0.000000</td>\n      <td>1.0</td>\n      <td>1.0</td>\n    </tr>\n    <tr>\n      <th>25%</th>\n      <td>1.900000e+01</td>\n      <td>1.610097e+06</td>\n      <td>-2.298000e+03</td>\n      <td>-3.497000e+03</td>\n      <td>-3.080000e+02</td>\n      <td>1.987464e+06</td>\n      <td>0.000000</td>\n      <td>394.000000</td>\n      <td>-10.000000</td>\n      <td>0.000000</td>\n      <td>1.0</td>\n      <td>1.0</td>\n    </tr>\n    <tr>\n      <th>50%</th>\n      <td>3.500000e+01</td>\n      <td>3.220053e+06</td>\n      <td>-2.510000e+02</td>\n      <td>-2.552000e+03</td>\n      <td>8.390000e+02</td>\n      <td>2.079625e+06</td>\n      <td>71.000000</td>\n      <td>592.000000</td>\n      <td>1.000000</td>\n      <td>0.000000</td>\n      <td>1.0</td>\n      <td>1.0</td>\n    </tr>\n    <tr>\n      <th>75%</th>\n      <td>4.500000e+01</td>\n      <td>5.143988e+06</td>\n      <td>7.870000e+02</td>\n      <td>-1.255000e+03</td>\n      <td>2.438000e+03</td>\n      <td>2.155102e+06</td>\n      <td>82.000000</td>\n      <td>960.000000</td>\n      <td>1.000000</td>\n      <td>1.000000</td>\n      <td>1.0</td>\n      <td>1.0</td>\n    </tr>\n    <tr>\n      <th>max</th>\n      <td>5.800000e+01</td>\n      <td>9.360487e+06</td>\n      <td>3.266700e+04</td>\n      <td>3.276300e+04</td>\n      <td>3.276400e+04</td>\n      <td>4.195641e+06</td>\n      <td>127.000000</td>\n      <td>3107.000000</td>\n      <td>1.000000</td>\n      <td>1.000000</td>\n      <td>1.0</td>\n      <td>1.0</td>\n    </tr>\n  </tbody>\n</table>\n</div>"
     },
     "execution_count": 23,
     "metadata": {},
     "output_type": "execute_result"
    }
   ],
   "source": [
    "data.describe()"
   ],
   "metadata": {
    "collapsed": false,
    "ExecuteTime": {
     "end_time": "2024-03-18T13:54:50.374373Z",
     "start_time": "2024-03-18T13:54:48.328876400Z"
    }
   },
   "id": "4ea9e442cea15123"
  },
  {
   "cell_type": "code",
   "execution_count": 36,
   "outputs": [
    {
     "data": {
      "text/plain": "         sessionId  timestamp   x   y   z  ppgValue  hr  hrIbi  hrStatus  \\\n13023            1     503234 NaN NaN NaN       NaN NaN    NaN       NaN   \n13173            1     509006 NaN NaN NaN       NaN NaN    NaN       NaN   \n69440            1    2689934 NaN NaN NaN       NaN NaN    NaN       NaN   \n69715            1    2700529 NaN NaN NaN       NaN NaN    NaN       NaN   \n97876            1    3788764 NaN NaN NaN       NaN NaN    NaN       NaN   \n...            ...        ...  ..  ..  ..       ...  ..    ...       ...   \n8008986         58    2595091 NaN NaN NaN       NaN NaN    NaN       NaN   \n8009183         58    2602657 NaN NaN NaN       NaN NaN    NaN       NaN   \n8061087         58    4610020 NaN NaN NaN       NaN NaN    NaN       NaN   \n8101818         58    6185055 NaN NaN NaN       NaN NaN    NaN       NaN   \n8102445         58    6209246 NaN NaN NaN       NaN NaN    NaN       NaN   \n\n         ibiStatus  notification  engagement   affect       context  \n13023          NaN           NaN         NaN  RELAXED           NaN  \n13173          NaN           NaN         NaN      NaN       WALKING  \n69440          NaN           NaN         NaN  RELAXED           NaN  \n69715          NaN           NaN         NaN      NaN  CONVERSATION  \n97876          NaN           NaN         NaN  RELAXED           NaN  \n...            ...           ...         ...      ...           ...  \n8008986        NaN           NaN         NaN    HAPPY           NaN  \n8009183        NaN           NaN         NaN      NaN  CONVERSATION  \n8061087        NaN           NaN         NaN    HAPPY           NaN  \n8101818        NaN           NaN         NaN    HAPPY           NaN  \n8102445        NaN           NaN         NaN      NaN    VIEW_BOOTH  \n\n[473 rows x 14 columns]",
      "text/html": "<div>\n<style scoped>\n    .dataframe tbody tr th:only-of-type {\n        vertical-align: middle;\n    }\n\n    .dataframe tbody tr th {\n        vertical-align: top;\n    }\n\n    .dataframe thead th {\n        text-align: right;\n    }\n</style>\n<table border=\"1\" class=\"dataframe\">\n  <thead>\n    <tr style=\"text-align: right;\">\n      <th></th>\n      <th>sessionId</th>\n      <th>timestamp</th>\n      <th>x</th>\n      <th>y</th>\n      <th>z</th>\n      <th>ppgValue</th>\n      <th>hr</th>\n      <th>hrIbi</th>\n      <th>hrStatus</th>\n      <th>ibiStatus</th>\n      <th>notification</th>\n      <th>engagement</th>\n      <th>affect</th>\n      <th>context</th>\n    </tr>\n  </thead>\n  <tbody>\n    <tr>\n      <th>13023</th>\n      <td>1</td>\n      <td>503234</td>\n      <td>NaN</td>\n      <td>NaN</td>\n      <td>NaN</td>\n      <td>NaN</td>\n      <td>NaN</td>\n      <td>NaN</td>\n      <td>NaN</td>\n      <td>NaN</td>\n      <td>NaN</td>\n      <td>NaN</td>\n      <td>RELAXED</td>\n      <td>NaN</td>\n    </tr>\n    <tr>\n      <th>13173</th>\n      <td>1</td>\n      <td>509006</td>\n      <td>NaN</td>\n      <td>NaN</td>\n      <td>NaN</td>\n      <td>NaN</td>\n      <td>NaN</td>\n      <td>NaN</td>\n      <td>NaN</td>\n      <td>NaN</td>\n      <td>NaN</td>\n      <td>NaN</td>\n      <td>NaN</td>\n      <td>WALKING</td>\n    </tr>\n    <tr>\n      <th>69440</th>\n      <td>1</td>\n      <td>2689934</td>\n      <td>NaN</td>\n      <td>NaN</td>\n      <td>NaN</td>\n      <td>NaN</td>\n      <td>NaN</td>\n      <td>NaN</td>\n      <td>NaN</td>\n      <td>NaN</td>\n      <td>NaN</td>\n      <td>NaN</td>\n      <td>RELAXED</td>\n      <td>NaN</td>\n    </tr>\n    <tr>\n      <th>69715</th>\n      <td>1</td>\n      <td>2700529</td>\n      <td>NaN</td>\n      <td>NaN</td>\n      <td>NaN</td>\n      <td>NaN</td>\n      <td>NaN</td>\n      <td>NaN</td>\n      <td>NaN</td>\n      <td>NaN</td>\n      <td>NaN</td>\n      <td>NaN</td>\n      <td>NaN</td>\n      <td>CONVERSATION</td>\n    </tr>\n    <tr>\n      <th>97876</th>\n      <td>1</td>\n      <td>3788764</td>\n      <td>NaN</td>\n      <td>NaN</td>\n      <td>NaN</td>\n      <td>NaN</td>\n      <td>NaN</td>\n      <td>NaN</td>\n      <td>NaN</td>\n      <td>NaN</td>\n      <td>NaN</td>\n      <td>NaN</td>\n      <td>RELAXED</td>\n      <td>NaN</td>\n    </tr>\n    <tr>\n      <th>...</th>\n      <td>...</td>\n      <td>...</td>\n      <td>...</td>\n      <td>...</td>\n      <td>...</td>\n      <td>...</td>\n      <td>...</td>\n      <td>...</td>\n      <td>...</td>\n      <td>...</td>\n      <td>...</td>\n      <td>...</td>\n      <td>...</td>\n      <td>...</td>\n    </tr>\n    <tr>\n      <th>8008986</th>\n      <td>58</td>\n      <td>2595091</td>\n      <td>NaN</td>\n      <td>NaN</td>\n      <td>NaN</td>\n      <td>NaN</td>\n      <td>NaN</td>\n      <td>NaN</td>\n      <td>NaN</td>\n      <td>NaN</td>\n      <td>NaN</td>\n      <td>NaN</td>\n      <td>HAPPY</td>\n      <td>NaN</td>\n    </tr>\n    <tr>\n      <th>8009183</th>\n      <td>58</td>\n      <td>2602657</td>\n      <td>NaN</td>\n      <td>NaN</td>\n      <td>NaN</td>\n      <td>NaN</td>\n      <td>NaN</td>\n      <td>NaN</td>\n      <td>NaN</td>\n      <td>NaN</td>\n      <td>NaN</td>\n      <td>NaN</td>\n      <td>NaN</td>\n      <td>CONVERSATION</td>\n    </tr>\n    <tr>\n      <th>8061087</th>\n      <td>58</td>\n      <td>4610020</td>\n      <td>NaN</td>\n      <td>NaN</td>\n      <td>NaN</td>\n      <td>NaN</td>\n      <td>NaN</td>\n      <td>NaN</td>\n      <td>NaN</td>\n      <td>NaN</td>\n      <td>NaN</td>\n      <td>NaN</td>\n      <td>HAPPY</td>\n      <td>NaN</td>\n    </tr>\n    <tr>\n      <th>8101818</th>\n      <td>58</td>\n      <td>6185055</td>\n      <td>NaN</td>\n      <td>NaN</td>\n      <td>NaN</td>\n      <td>NaN</td>\n      <td>NaN</td>\n      <td>NaN</td>\n      <td>NaN</td>\n      <td>NaN</td>\n      <td>NaN</td>\n      <td>NaN</td>\n      <td>HAPPY</td>\n      <td>NaN</td>\n    </tr>\n    <tr>\n      <th>8102445</th>\n      <td>58</td>\n      <td>6209246</td>\n      <td>NaN</td>\n      <td>NaN</td>\n      <td>NaN</td>\n      <td>NaN</td>\n      <td>NaN</td>\n      <td>NaN</td>\n      <td>NaN</td>\n      <td>NaN</td>\n      <td>NaN</td>\n      <td>NaN</td>\n      <td>NaN</td>\n      <td>VIEW_BOOTH</td>\n    </tr>\n  </tbody>\n</table>\n<p>473 rows × 14 columns</p>\n</div>"
     },
     "execution_count": 36,
     "metadata": {},
     "output_type": "execute_result"
    }
   ],
   "source": [
    "filtered_df = data.dropna(how = \"all\", subset=['affect', 'context']) #data.dropna(subset=['affect', 'context']).fillna(np.nan)\n",
    "filtered_df"
   ],
   "metadata": {
    "collapsed": false,
    "ExecuteTime": {
     "end_time": "2024-03-18T15:03:52.387902800Z",
     "start_time": "2024-03-18T15:03:52.325903100Z"
    }
   },
   "id": "5506bc590aa0956a"
  },
  {
   "cell_type": "code",
   "execution_count": 19,
   "outputs": [
    {
     "data": {
      "text/plain": "         sessionId  timestamp      x      y       z   ppgValue   hr  hrIbi  \\\n1                1         50  659.0  198.0  4096.0  1917495.0  NaN    NaN   \n2                1         89  645.0  149.0  4054.0  1917365.0  NaN    NaN   \n3                1        128  752.0  213.0  4090.0  1918146.0  NaN    NaN   \n4                1        169  652.0  232.0  4088.0  1919319.0  NaN    NaN   \n5                1        209  582.0  210.0  4093.0  1920154.0  NaN    NaN   \n...            ...        ...    ...    ...     ...        ...  ...    ...   \n8824673         48    4225425    NaN    NaN     NaN        NaN  0.0    0.0   \n8824674         48    4225455 -808.0   42.0  4038.0  3349663.0  NaN    NaN   \n8824675         48    4225495 -792.0  -89.0  3885.0  3404833.0  NaN    NaN   \n8824676         48    4225535 -806.0  -78.0  4130.0  3316474.0  NaN    NaN   \n8824677         48    4225576 -823.0 -124.0  3964.0  3314477.0  NaN    NaN   \n\n         hrStatus  ibiStatus  notification  engagement  affect  context  \n1             NaN        NaN           NaN         NaN     NaN      NaN  \n2             NaN        NaN           NaN         NaN     NaN      NaN  \n3             NaN        NaN           NaN         NaN     NaN      NaN  \n4             NaN        NaN           NaN         NaN     NaN      NaN  \n5             NaN        NaN           NaN         NaN     NaN      NaN  \n...           ...        ...           ...         ...     ...      ...  \n8824673     -10.0        0.0           NaN         NaN     NaN      NaN  \n8824674       NaN        NaN           NaN         NaN     NaN      NaN  \n8824675       NaN        NaN           NaN         NaN     NaN      NaN  \n8824676       NaN        NaN           NaN         NaN     NaN      NaN  \n8824677       NaN        NaN           NaN         NaN     NaN      NaN  \n\n[8823460 rows x 14 columns]",
      "text/html": "<div>\n<style scoped>\n    .dataframe tbody tr th:only-of-type {\n        vertical-align: middle;\n    }\n\n    .dataframe tbody tr th {\n        vertical-align: top;\n    }\n\n    .dataframe thead th {\n        text-align: right;\n    }\n</style>\n<table border=\"1\" class=\"dataframe\">\n  <thead>\n    <tr style=\"text-align: right;\">\n      <th></th>\n      <th>sessionId</th>\n      <th>timestamp</th>\n      <th>x</th>\n      <th>y</th>\n      <th>z</th>\n      <th>ppgValue</th>\n      <th>hr</th>\n      <th>hrIbi</th>\n      <th>hrStatus</th>\n      <th>ibiStatus</th>\n      <th>notification</th>\n      <th>engagement</th>\n      <th>affect</th>\n      <th>context</th>\n    </tr>\n  </thead>\n  <tbody>\n    <tr>\n      <th>1</th>\n      <td>1</td>\n      <td>50</td>\n      <td>659.0</td>\n      <td>198.0</td>\n      <td>4096.0</td>\n      <td>1917495.0</td>\n      <td>NaN</td>\n      <td>NaN</td>\n      <td>NaN</td>\n      <td>NaN</td>\n      <td>NaN</td>\n      <td>NaN</td>\n      <td>NaN</td>\n      <td>NaN</td>\n    </tr>\n    <tr>\n      <th>2</th>\n      <td>1</td>\n      <td>89</td>\n      <td>645.0</td>\n      <td>149.0</td>\n      <td>4054.0</td>\n      <td>1917365.0</td>\n      <td>NaN</td>\n      <td>NaN</td>\n      <td>NaN</td>\n      <td>NaN</td>\n      <td>NaN</td>\n      <td>NaN</td>\n      <td>NaN</td>\n      <td>NaN</td>\n    </tr>\n    <tr>\n      <th>3</th>\n      <td>1</td>\n      <td>128</td>\n      <td>752.0</td>\n      <td>213.0</td>\n      <td>4090.0</td>\n      <td>1918146.0</td>\n      <td>NaN</td>\n      <td>NaN</td>\n      <td>NaN</td>\n      <td>NaN</td>\n      <td>NaN</td>\n      <td>NaN</td>\n      <td>NaN</td>\n      <td>NaN</td>\n    </tr>\n    <tr>\n      <th>4</th>\n      <td>1</td>\n      <td>169</td>\n      <td>652.0</td>\n      <td>232.0</td>\n      <td>4088.0</td>\n      <td>1919319.0</td>\n      <td>NaN</td>\n      <td>NaN</td>\n      <td>NaN</td>\n      <td>NaN</td>\n      <td>NaN</td>\n      <td>NaN</td>\n      <td>NaN</td>\n      <td>NaN</td>\n    </tr>\n    <tr>\n      <th>5</th>\n      <td>1</td>\n      <td>209</td>\n      <td>582.0</td>\n      <td>210.0</td>\n      <td>4093.0</td>\n      <td>1920154.0</td>\n      <td>NaN</td>\n      <td>NaN</td>\n      <td>NaN</td>\n      <td>NaN</td>\n      <td>NaN</td>\n      <td>NaN</td>\n      <td>NaN</td>\n      <td>NaN</td>\n    </tr>\n    <tr>\n      <th>...</th>\n      <td>...</td>\n      <td>...</td>\n      <td>...</td>\n      <td>...</td>\n      <td>...</td>\n      <td>...</td>\n      <td>...</td>\n      <td>...</td>\n      <td>...</td>\n      <td>...</td>\n      <td>...</td>\n      <td>...</td>\n      <td>...</td>\n      <td>...</td>\n    </tr>\n    <tr>\n      <th>8824673</th>\n      <td>48</td>\n      <td>4225425</td>\n      <td>NaN</td>\n      <td>NaN</td>\n      <td>NaN</td>\n      <td>NaN</td>\n      <td>0.0</td>\n      <td>0.0</td>\n      <td>-10.0</td>\n      <td>0.0</td>\n      <td>NaN</td>\n      <td>NaN</td>\n      <td>NaN</td>\n      <td>NaN</td>\n    </tr>\n    <tr>\n      <th>8824674</th>\n      <td>48</td>\n      <td>4225455</td>\n      <td>-808.0</td>\n      <td>42.0</td>\n      <td>4038.0</td>\n      <td>3349663.0</td>\n      <td>NaN</td>\n      <td>NaN</td>\n      <td>NaN</td>\n      <td>NaN</td>\n      <td>NaN</td>\n      <td>NaN</td>\n      <td>NaN</td>\n      <td>NaN</td>\n    </tr>\n    <tr>\n      <th>8824675</th>\n      <td>48</td>\n      <td>4225495</td>\n      <td>-792.0</td>\n      <td>-89.0</td>\n      <td>3885.0</td>\n      <td>3404833.0</td>\n      <td>NaN</td>\n      <td>NaN</td>\n      <td>NaN</td>\n      <td>NaN</td>\n      <td>NaN</td>\n      <td>NaN</td>\n      <td>NaN</td>\n      <td>NaN</td>\n    </tr>\n    <tr>\n      <th>8824676</th>\n      <td>48</td>\n      <td>4225535</td>\n      <td>-806.0</td>\n      <td>-78.0</td>\n      <td>4130.0</td>\n      <td>3316474.0</td>\n      <td>NaN</td>\n      <td>NaN</td>\n      <td>NaN</td>\n      <td>NaN</td>\n      <td>NaN</td>\n      <td>NaN</td>\n      <td>NaN</td>\n      <td>NaN</td>\n    </tr>\n    <tr>\n      <th>8824677</th>\n      <td>48</td>\n      <td>4225576</td>\n      <td>-823.0</td>\n      <td>-124.0</td>\n      <td>3964.0</td>\n      <td>3314477.0</td>\n      <td>NaN</td>\n      <td>NaN</td>\n      <td>NaN</td>\n      <td>NaN</td>\n      <td>NaN</td>\n      <td>NaN</td>\n      <td>NaN</td>\n      <td>NaN</td>\n    </tr>\n  </tbody>\n</table>\n<p>8823460 rows × 14 columns</p>\n</div>"
     },
     "execution_count": 19,
     "metadata": {},
     "output_type": "execute_result"
    }
   ],
   "source": [
    "cleaned_data = data.dropna(thresh=6, axis=0).drop(0).fillna(np.nan) # Thresh =4 bedeutet, dass minimal 4 Werte von den NAN-Werte verschieden sind.\n",
    "cleaned_data"
   ],
   "metadata": {
    "collapsed": false,
    "ExecuteTime": {
     "end_time": "2024-03-18T13:34:00.535183300Z",
     "start_time": "2024-03-18T13:33:57.358968Z"
    }
   },
   "id": "c608923e450a33f1"
  },
  {
   "cell_type": "code",
   "execution_count": null,
   "outputs": [],
   "source": [],
   "metadata": {
    "collapsed": false
   },
   "id": "4d5bf6d9cd03973f"
  },
  {
   "cell_type": "code",
   "execution_count": null,
   "outputs": [],
   "source": [],
   "metadata": {
    "collapsed": false
   },
   "id": "115db71f8b539db4"
  },
  {
   "cell_type": "code",
   "execution_count": 26,
   "outputs": [],
   "source": [
    "#abgabe = pd.read_csv('../task/student_skeleton.csv', sep =',')\n",
    "#abgabe"
   ],
   "metadata": {
    "collapsed": false,
    "ExecuteTime": {
     "end_time": "2024-03-18T14:16:10.333197900Z",
     "start_time": "2024-03-18T14:16:10.324198300Z"
    }
   },
   "id": "6bb4f87897c396b8"
  },
  {
   "cell_type": "code",
   "execution_count": 6,
   "outputs": [
    {
     "data": {
      "text/plain": "    id  duration watchId    age  gender  fairNumber\n0    1   8021351    0Q3V  18-25  female           1\n1    2   3752526    0Q3V  26-30    male           1\n2    3   3989497    0QED  18-25    male           1\n3    4   4979198    0QED  18-25    male           1\n4    5   4836199    0QVM  18-25    male           1\n5    6   4677432    0RQF  18-25    male           1\n6    7   4982640    0RQF  18-25    male           1\n7    8   4052272    0V7D  18-25    male           1\n8    9   7062503    0V7D  18-25    male           1\n9   10   4678102    0VBR  18-25    male           1\n10  11   4943292    0VBR  18-25    male           1\n11  12   8088986    1QJH  18-25  female           1\n12  13   3774518    1QJH  18-25    male           1\n13  14   5085098    0Q3V  31-40  female           2\n14  15   4009298    0QVM  18-25  female           2\n15  16   7753940    0RQF  18-25  female           2\n16  17   9153059    0V7D  18-25  female           2\n17  18   4973889    0V7D  18-25    male           2\n18  19   3951161    0VBR  18-25  female           2\n19  20   5197420    0VBR  31-40  female           2\n20  21   3950543    1QJH  18-25  female           2\n21  22   3798259    1QJH  18-25  female           2\n22  23   4009298    0QVM  18-25  female           3\n23  24   9308843    0QVM  26-30    male           3\n24  25   3745019    0QVM  18-25  female           3\n25  26   5024972    0V7D  18-25  female           3\n26  27   5215075    0V7D  26-30    male           3\n27  28   6850942    0VBR  26-30    male           3\n28  29   9266247    20HZ  31-40  female           3\n29  30   3716686    20HZ  18-25  female           3\n30  31   7752638    PTQV  26-30  female           3\n31  32   4809992    PTQV  31-40    male           3\n32  33   4007160    PTWR  31-40    male           3\n33  34   7701997    PVJD  31-40  female           3\n34  35   7851545    PVQB  26-30  female           3\n35  36   7284808    PVQB  18-25    male           3\n36  37   8562272    0Q3V  18-25    male           4\n37  38   9041356    0Q3V  18-25    male           4\n38  39   7713034    0QED  26-30  female           4\n39  40   6715363    0RQF  18-25  female           4\n40  41   9116053    0RQF  18-25    male           4\n41  42   8436487    0RTE  18-25    male           4\n42  43   6703739    0RTE  18-25  female           4\n43  44   8386119    0V7D  18-25    male           4\n44  45   6623412    0V7D  18-25  female           4\n45  46   8530384    0VBR  18-25  female           4\n46  47   8874653    0VBR  18-25    male           4\n47  48   4225593    20HZ  18-25  female           4\n48  49   8844603    20HZ  18-25    male           4\n49  50   8351871    2V0Z  18-25  female           4\n50  51   9010335    2V0Z  26-30    male           4\n51  52   7816946    PTQV  18-25    male           4\n52  53   7757844    PTQV  26-30    male           4\n53  54   9360502    PTWR  26-30  female           4\n54  55   6428978    PVJD  18-25  female           4\n55  56   6732526    PVJD  18-25  female           4\n56  57   8525474    PVQB  26-30  female           4\n57  58   6662013    PVQB  18-25  female           4",
      "text/html": "<div>\n<style scoped>\n    .dataframe tbody tr th:only-of-type {\n        vertical-align: middle;\n    }\n\n    .dataframe tbody tr th {\n        vertical-align: top;\n    }\n\n    .dataframe thead th {\n        text-align: right;\n    }\n</style>\n<table border=\"1\" class=\"dataframe\">\n  <thead>\n    <tr style=\"text-align: right;\">\n      <th></th>\n      <th>id</th>\n      <th>duration</th>\n      <th>watchId</th>\n      <th>age</th>\n      <th>gender</th>\n      <th>fairNumber</th>\n    </tr>\n  </thead>\n  <tbody>\n    <tr>\n      <th>0</th>\n      <td>1</td>\n      <td>8021351</td>\n      <td>0Q3V</td>\n      <td>18-25</td>\n      <td>female</td>\n      <td>1</td>\n    </tr>\n    <tr>\n      <th>1</th>\n      <td>2</td>\n      <td>3752526</td>\n      <td>0Q3V</td>\n      <td>26-30</td>\n      <td>male</td>\n      <td>1</td>\n    </tr>\n    <tr>\n      <th>2</th>\n      <td>3</td>\n      <td>3989497</td>\n      <td>0QED</td>\n      <td>18-25</td>\n      <td>male</td>\n      <td>1</td>\n    </tr>\n    <tr>\n      <th>3</th>\n      <td>4</td>\n      <td>4979198</td>\n      <td>0QED</td>\n      <td>18-25</td>\n      <td>male</td>\n      <td>1</td>\n    </tr>\n    <tr>\n      <th>4</th>\n      <td>5</td>\n      <td>4836199</td>\n      <td>0QVM</td>\n      <td>18-25</td>\n      <td>male</td>\n      <td>1</td>\n    </tr>\n    <tr>\n      <th>5</th>\n      <td>6</td>\n      <td>4677432</td>\n      <td>0RQF</td>\n      <td>18-25</td>\n      <td>male</td>\n      <td>1</td>\n    </tr>\n    <tr>\n      <th>6</th>\n      <td>7</td>\n      <td>4982640</td>\n      <td>0RQF</td>\n      <td>18-25</td>\n      <td>male</td>\n      <td>1</td>\n    </tr>\n    <tr>\n      <th>7</th>\n      <td>8</td>\n      <td>4052272</td>\n      <td>0V7D</td>\n      <td>18-25</td>\n      <td>male</td>\n      <td>1</td>\n    </tr>\n    <tr>\n      <th>8</th>\n      <td>9</td>\n      <td>7062503</td>\n      <td>0V7D</td>\n      <td>18-25</td>\n      <td>male</td>\n      <td>1</td>\n    </tr>\n    <tr>\n      <th>9</th>\n      <td>10</td>\n      <td>4678102</td>\n      <td>0VBR</td>\n      <td>18-25</td>\n      <td>male</td>\n      <td>1</td>\n    </tr>\n    <tr>\n      <th>10</th>\n      <td>11</td>\n      <td>4943292</td>\n      <td>0VBR</td>\n      <td>18-25</td>\n      <td>male</td>\n      <td>1</td>\n    </tr>\n    <tr>\n      <th>11</th>\n      <td>12</td>\n      <td>8088986</td>\n      <td>1QJH</td>\n      <td>18-25</td>\n      <td>female</td>\n      <td>1</td>\n    </tr>\n    <tr>\n      <th>12</th>\n      <td>13</td>\n      <td>3774518</td>\n      <td>1QJH</td>\n      <td>18-25</td>\n      <td>male</td>\n      <td>1</td>\n    </tr>\n    <tr>\n      <th>13</th>\n      <td>14</td>\n      <td>5085098</td>\n      <td>0Q3V</td>\n      <td>31-40</td>\n      <td>female</td>\n      <td>2</td>\n    </tr>\n    <tr>\n      <th>14</th>\n      <td>15</td>\n      <td>4009298</td>\n      <td>0QVM</td>\n      <td>18-25</td>\n      <td>female</td>\n      <td>2</td>\n    </tr>\n    <tr>\n      <th>15</th>\n      <td>16</td>\n      <td>7753940</td>\n      <td>0RQF</td>\n      <td>18-25</td>\n      <td>female</td>\n      <td>2</td>\n    </tr>\n    <tr>\n      <th>16</th>\n      <td>17</td>\n      <td>9153059</td>\n      <td>0V7D</td>\n      <td>18-25</td>\n      <td>female</td>\n      <td>2</td>\n    </tr>\n    <tr>\n      <th>17</th>\n      <td>18</td>\n      <td>4973889</td>\n      <td>0V7D</td>\n      <td>18-25</td>\n      <td>male</td>\n      <td>2</td>\n    </tr>\n    <tr>\n      <th>18</th>\n      <td>19</td>\n      <td>3951161</td>\n      <td>0VBR</td>\n      <td>18-25</td>\n      <td>female</td>\n      <td>2</td>\n    </tr>\n    <tr>\n      <th>19</th>\n      <td>20</td>\n      <td>5197420</td>\n      <td>0VBR</td>\n      <td>31-40</td>\n      <td>female</td>\n      <td>2</td>\n    </tr>\n    <tr>\n      <th>20</th>\n      <td>21</td>\n      <td>3950543</td>\n      <td>1QJH</td>\n      <td>18-25</td>\n      <td>female</td>\n      <td>2</td>\n    </tr>\n    <tr>\n      <th>21</th>\n      <td>22</td>\n      <td>3798259</td>\n      <td>1QJH</td>\n      <td>18-25</td>\n      <td>female</td>\n      <td>2</td>\n    </tr>\n    <tr>\n      <th>22</th>\n      <td>23</td>\n      <td>4009298</td>\n      <td>0QVM</td>\n      <td>18-25</td>\n      <td>female</td>\n      <td>3</td>\n    </tr>\n    <tr>\n      <th>23</th>\n      <td>24</td>\n      <td>9308843</td>\n      <td>0QVM</td>\n      <td>26-30</td>\n      <td>male</td>\n      <td>3</td>\n    </tr>\n    <tr>\n      <th>24</th>\n      <td>25</td>\n      <td>3745019</td>\n      <td>0QVM</td>\n      <td>18-25</td>\n      <td>female</td>\n      <td>3</td>\n    </tr>\n    <tr>\n      <th>25</th>\n      <td>26</td>\n      <td>5024972</td>\n      <td>0V7D</td>\n      <td>18-25</td>\n      <td>female</td>\n      <td>3</td>\n    </tr>\n    <tr>\n      <th>26</th>\n      <td>27</td>\n      <td>5215075</td>\n      <td>0V7D</td>\n      <td>26-30</td>\n      <td>male</td>\n      <td>3</td>\n    </tr>\n    <tr>\n      <th>27</th>\n      <td>28</td>\n      <td>6850942</td>\n      <td>0VBR</td>\n      <td>26-30</td>\n      <td>male</td>\n      <td>3</td>\n    </tr>\n    <tr>\n      <th>28</th>\n      <td>29</td>\n      <td>9266247</td>\n      <td>20HZ</td>\n      <td>31-40</td>\n      <td>female</td>\n      <td>3</td>\n    </tr>\n    <tr>\n      <th>29</th>\n      <td>30</td>\n      <td>3716686</td>\n      <td>20HZ</td>\n      <td>18-25</td>\n      <td>female</td>\n      <td>3</td>\n    </tr>\n    <tr>\n      <th>30</th>\n      <td>31</td>\n      <td>7752638</td>\n      <td>PTQV</td>\n      <td>26-30</td>\n      <td>female</td>\n      <td>3</td>\n    </tr>\n    <tr>\n      <th>31</th>\n      <td>32</td>\n      <td>4809992</td>\n      <td>PTQV</td>\n      <td>31-40</td>\n      <td>male</td>\n      <td>3</td>\n    </tr>\n    <tr>\n      <th>32</th>\n      <td>33</td>\n      <td>4007160</td>\n      <td>PTWR</td>\n      <td>31-40</td>\n      <td>male</td>\n      <td>3</td>\n    </tr>\n    <tr>\n      <th>33</th>\n      <td>34</td>\n      <td>7701997</td>\n      <td>PVJD</td>\n      <td>31-40</td>\n      <td>female</td>\n      <td>3</td>\n    </tr>\n    <tr>\n      <th>34</th>\n      <td>35</td>\n      <td>7851545</td>\n      <td>PVQB</td>\n      <td>26-30</td>\n      <td>female</td>\n      <td>3</td>\n    </tr>\n    <tr>\n      <th>35</th>\n      <td>36</td>\n      <td>7284808</td>\n      <td>PVQB</td>\n      <td>18-25</td>\n      <td>male</td>\n      <td>3</td>\n    </tr>\n    <tr>\n      <th>36</th>\n      <td>37</td>\n      <td>8562272</td>\n      <td>0Q3V</td>\n      <td>18-25</td>\n      <td>male</td>\n      <td>4</td>\n    </tr>\n    <tr>\n      <th>37</th>\n      <td>38</td>\n      <td>9041356</td>\n      <td>0Q3V</td>\n      <td>18-25</td>\n      <td>male</td>\n      <td>4</td>\n    </tr>\n    <tr>\n      <th>38</th>\n      <td>39</td>\n      <td>7713034</td>\n      <td>0QED</td>\n      <td>26-30</td>\n      <td>female</td>\n      <td>4</td>\n    </tr>\n    <tr>\n      <th>39</th>\n      <td>40</td>\n      <td>6715363</td>\n      <td>0RQF</td>\n      <td>18-25</td>\n      <td>female</td>\n      <td>4</td>\n    </tr>\n    <tr>\n      <th>40</th>\n      <td>41</td>\n      <td>9116053</td>\n      <td>0RQF</td>\n      <td>18-25</td>\n      <td>male</td>\n      <td>4</td>\n    </tr>\n    <tr>\n      <th>41</th>\n      <td>42</td>\n      <td>8436487</td>\n      <td>0RTE</td>\n      <td>18-25</td>\n      <td>male</td>\n      <td>4</td>\n    </tr>\n    <tr>\n      <th>42</th>\n      <td>43</td>\n      <td>6703739</td>\n      <td>0RTE</td>\n      <td>18-25</td>\n      <td>female</td>\n      <td>4</td>\n    </tr>\n    <tr>\n      <th>43</th>\n      <td>44</td>\n      <td>8386119</td>\n      <td>0V7D</td>\n      <td>18-25</td>\n      <td>male</td>\n      <td>4</td>\n    </tr>\n    <tr>\n      <th>44</th>\n      <td>45</td>\n      <td>6623412</td>\n      <td>0V7D</td>\n      <td>18-25</td>\n      <td>female</td>\n      <td>4</td>\n    </tr>\n    <tr>\n      <th>45</th>\n      <td>46</td>\n      <td>8530384</td>\n      <td>0VBR</td>\n      <td>18-25</td>\n      <td>female</td>\n      <td>4</td>\n    </tr>\n    <tr>\n      <th>46</th>\n      <td>47</td>\n      <td>8874653</td>\n      <td>0VBR</td>\n      <td>18-25</td>\n      <td>male</td>\n      <td>4</td>\n    </tr>\n    <tr>\n      <th>47</th>\n      <td>48</td>\n      <td>4225593</td>\n      <td>20HZ</td>\n      <td>18-25</td>\n      <td>female</td>\n      <td>4</td>\n    </tr>\n    <tr>\n      <th>48</th>\n      <td>49</td>\n      <td>8844603</td>\n      <td>20HZ</td>\n      <td>18-25</td>\n      <td>male</td>\n      <td>4</td>\n    </tr>\n    <tr>\n      <th>49</th>\n      <td>50</td>\n      <td>8351871</td>\n      <td>2V0Z</td>\n      <td>18-25</td>\n      <td>female</td>\n      <td>4</td>\n    </tr>\n    <tr>\n      <th>50</th>\n      <td>51</td>\n      <td>9010335</td>\n      <td>2V0Z</td>\n      <td>26-30</td>\n      <td>male</td>\n      <td>4</td>\n    </tr>\n    <tr>\n      <th>51</th>\n      <td>52</td>\n      <td>7816946</td>\n      <td>PTQV</td>\n      <td>18-25</td>\n      <td>male</td>\n      <td>4</td>\n    </tr>\n    <tr>\n      <th>52</th>\n      <td>53</td>\n      <td>7757844</td>\n      <td>PTQV</td>\n      <td>26-30</td>\n      <td>male</td>\n      <td>4</td>\n    </tr>\n    <tr>\n      <th>53</th>\n      <td>54</td>\n      <td>9360502</td>\n      <td>PTWR</td>\n      <td>26-30</td>\n      <td>female</td>\n      <td>4</td>\n    </tr>\n    <tr>\n      <th>54</th>\n      <td>55</td>\n      <td>6428978</td>\n      <td>PVJD</td>\n      <td>18-25</td>\n      <td>female</td>\n      <td>4</td>\n    </tr>\n    <tr>\n      <th>55</th>\n      <td>56</td>\n      <td>6732526</td>\n      <td>PVJD</td>\n      <td>18-25</td>\n      <td>female</td>\n      <td>4</td>\n    </tr>\n    <tr>\n      <th>56</th>\n      <td>57</td>\n      <td>8525474</td>\n      <td>PVQB</td>\n      <td>26-30</td>\n      <td>female</td>\n      <td>4</td>\n    </tr>\n    <tr>\n      <th>57</th>\n      <td>58</td>\n      <td>6662013</td>\n      <td>PVQB</td>\n      <td>18-25</td>\n      <td>female</td>\n      <td>4</td>\n    </tr>\n  </tbody>\n</table>\n</div>"
     },
     "execution_count": 6,
     "metadata": {},
     "output_type": "execute_result"
    }
   ],
   "source": [
    "info = pd.read_csv('../task/session_info.csv', sep =',')\n",
    "info"
   ],
   "metadata": {
    "collapsed": false,
    "ExecuteTime": {
     "end_time": "2024-03-18T13:27:36.360935300Z",
     "start_time": "2024-03-18T13:27:36.345934500Z"
    }
   },
   "id": "71b6323e2e5cc116"
  },
  {
   "cell_type": "code",
   "execution_count": null,
   "outputs": [],
   "source": [],
   "metadata": {
    "collapsed": false
   },
   "id": "595888db532b88d1"
  },
  {
   "cell_type": "code",
   "execution_count": null,
   "outputs": [],
   "source": [],
   "metadata": {
    "collapsed": false
   },
   "id": "1d7934091c87f758"
  },
  {
   "cell_type": "code",
   "execution_count": null,
   "outputs": [],
   "source": [],
   "metadata": {
    "collapsed": false
   },
   "id": "4ec5f7328de35cd3"
  }
 ],
 "metadata": {
  "kernelspec": {
   "display_name": "Python 3",
   "language": "python",
   "name": "python3"
  },
  "language_info": {
   "codemirror_mode": {
    "name": "ipython",
    "version": 2
   },
   "file_extension": ".py",
   "mimetype": "text/x-python",
   "name": "python",
   "nbconvert_exporter": "python",
   "pygments_lexer": "ipython2",
   "version": "2.7.6"
  }
 },
 "nbformat": 4,
 "nbformat_minor": 5
}
